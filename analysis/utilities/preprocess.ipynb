{
 "cells": [
  {
   "cell_type": "code",
   "execution_count": 6,
   "source": [
    "import pandas as pd\n",
    "import os\n",
    "from pathlib import Path\n",
    "import glob\n",
    "import shutil"
   ],
   "outputs": [],
   "metadata": {}
  },
  {
   "cell_type": "code",
   "execution_count": 3,
   "source": [
    "grade_path = os.path.join('data', 'grades.csv')\n",
    "grades = pd.read_csv(grade_path, index_col = 'Identifier')\n",
    "grades.index = [str(x) for x in grades.index]"
   ],
   "outputs": [],
   "metadata": {}
  },
  {
   "cell_type": "code",
   "execution_count": 7,
   "source": [
    "preprocessed_dataset_path = 'preprocessed_data'\n",
    "train_path = os.path.join(preprocessed_dataset_path, 'train')\n",
    "train_identifier_list = sorted([Path(name).stem for name in glob.glob(os.path.join(train_path, \"*\"))])\n",
    "\n",
    "val_path = os.path.join(preprocessed_dataset_path, 'val')\n",
    "val_identifier_list = sorted([Path(name).stem for name in glob.glob(os.path.join(val_path, \"*\"))])"
   ],
   "outputs": [],
   "metadata": {}
  },
  {
   "cell_type": "code",
   "execution_count": 17,
   "source": [
    "for _id in val_identifier_list:\n",
    "    if _id not in grades.index:\n",
    "        shutil.rmtree(os.path.join('data',_id))\n",
    "        os.remove(os.path.join(preprocessed_dataset_path, 'val', f'{_id}.jpg'))"
   ],
   "outputs": [],
   "metadata": {}
  },
  {
   "cell_type": "code",
   "execution_count": 21,
   "source": [
    "grades.index.name = 'Identifier'\n",
    "grades.to_csv(\"data/grades.csv\")"
   ],
   "outputs": [],
   "metadata": {}
  },
  {
   "cell_type": "code",
   "execution_count": 23,
   "source": [
    "len(grades.index.unique())"
   ],
   "outputs": [
    {
     "output_type": "execute_result",
     "data": {
      "text/plain": [
       "8212"
      ]
     },
     "metadata": {},
     "execution_count": 23
    }
   ],
   "metadata": {}
  },
  {
   "cell_type": "code",
   "execution_count": 25,
   "source": [
    "new_grades = grades.groupby('Identifier').first()"
   ],
   "outputs": [],
   "metadata": {}
  },
  {
   "cell_type": "code",
   "execution_count": 28,
   "source": [
    "new_grades.to_csv(\"data/grades.csv\")"
   ],
   "outputs": [],
   "metadata": {}
  },
  {
   "cell_type": "code",
   "execution_count": null,
   "source": [],
   "outputs": [],
   "metadata": {}
  }
 ],
 "metadata": {
  "orig_nbformat": 4,
  "language_info": {
   "name": "python",
   "version": "3.7.10",
   "mimetype": "text/x-python",
   "codemirror_mode": {
    "name": "ipython",
    "version": 3
   },
   "pygments_lexer": "ipython3",
   "nbconvert_exporter": "python",
   "file_extension": ".py"
  },
  "kernelspec": {
   "name": "python3",
   "display_name": "Python 3.7.10 64-bit ('psa': conda)"
  },
  "interpreter": {
   "hash": "b4d4caaa904f1b779aa3a7c96dea51e4fb743695ed9daaf7cfb1df6a759db69f"
  }
 },
 "nbformat": 4,
 "nbformat_minor": 2
}