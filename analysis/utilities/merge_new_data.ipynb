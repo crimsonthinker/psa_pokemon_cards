{
 "cells": [
  {
   "cell_type": "code",
   "execution_count": 2,
   "source": [
    "import glob\n",
    "import shutil\n",
    "import pandas as pd"
   ],
   "outputs": [],
   "metadata": {}
  },
  {
   "cell_type": "code",
   "execution_count": 2,
   "source": [
    "old_files = [x.split('/')[-1] for x in list(glob.glob('data/*'))]\n",
    "new_files = [x.split('/')[-1] for x in list(glob.glob('build/images/cgc/*'))]"
   ],
   "outputs": [],
   "metadata": {}
  },
  {
   "cell_type": "code",
   "execution_count": 3,
   "source": [
    "overlap = [x for x in old_files if x in new_files]"
   ],
   "outputs": [],
   "metadata": {}
  },
  {
   "cell_type": "code",
   "execution_count": 7,
   "source": [
    "completely_news = [x for x in new_files if x not in overlap]"
   ],
   "outputs": [],
   "metadata": {}
  },
  {
   "cell_type": "code",
   "execution_count": 9,
   "source": [
    "for f in overlap:\n",
    "    shutil.rmtree(f'build/images/cgc/{f}')"
   ],
   "outputs": [],
   "metadata": {}
  },
  {
   "cell_type": "code",
   "execution_count": 22,
   "source": [
    "old_grades = pd.read_csv(\"data/grades.csv\")\n",
    "new_grades = pd.read_csv(\"build/grades.csv\")"
   ],
   "outputs": [],
   "metadata": {}
  },
  {
   "cell_type": "code",
   "execution_count": 23,
   "source": [
    "old_grades.set_index('Identifier', inplace = True)\n",
    "new_grades.set_index('Identifier', inplace = True)"
   ],
   "outputs": [],
   "metadata": {}
  },
  {
   "cell_type": "code",
   "execution_count": 26,
   "source": [
    "new_grades_completely = new_grades.loc[[int(x) for x in completely_news if int(x) not in [3779413001, 3889981001, 3789328001, 3769501001]]]"
   ],
   "outputs": [],
   "metadata": {}
  },
  {
   "cell_type": "code",
   "execution_count": 29,
   "source": [
    "updated_grades = pd.concat([old_grades, new_grades_completely])"
   ],
   "outputs": [],
   "metadata": {}
  },
  {
   "cell_type": "code",
   "execution_count": 31,
   "source": [
    "updated_grades.to_csv(\"data/grades.csv\")"
   ],
   "outputs": [],
   "metadata": {}
  },
  {
   "cell_type": "code",
   "execution_count": 3,
   "source": [
    "files = list(glob.glob(\"data/*\"))"
   ],
   "outputs": [],
   "metadata": {}
  },
  {
   "cell_type": "code",
   "execution_count": 4,
   "source": [
    "import os\n",
    "for f in files:\n",
    "    try:\n",
    "        os.remove(f\"{f}/back.json\")\n",
    "    except:\n",
    "        pass\n",
    "    try:\n",
    "        os.remove(f\"{f}/front.json\")\n",
    "    except:\n",
    "        pass"
   ],
   "outputs": [],
   "metadata": {}
  },
  {
   "cell_type": "code",
   "execution_count": null,
   "source": [],
   "outputs": [],
   "metadata": {}
  }
 ],
 "metadata": {
  "orig_nbformat": 4,
  "language_info": {
   "name": "python",
   "version": "3.8.11",
   "mimetype": "text/x-python",
   "codemirror_mode": {
    "name": "ipython",
    "version": 3
   },
   "pygments_lexer": "ipython3",
   "nbconvert_exporter": "python",
   "file_extension": ".py"
  },
  "kernelspec": {
   "name": "python3",
   "display_name": "Python 3.8.11 64-bit ('psa': conda)"
  },
  "interpreter": {
   "hash": "b4d4caaa904f1b779aa3a7c96dea51e4fb743695ed9daaf7cfb1df6a759db69f"
  }
 },
 "nbformat": 4,
 "nbformat_minor": 2
}